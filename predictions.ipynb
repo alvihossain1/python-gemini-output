{
 "cells": [
  {
   "cell_type": "code",
   "execution_count": 4,
   "metadata": {},
   "outputs": [],
   "source": [
    "import pandas as pd\n",
    "\n",
    "# sklearn\n",
    "from sklearn.model_selection import train_test_split\n",
    "from sklearn.preprocessing import LabelEncoder\n",
    "from sklearn.ensemble import RandomForestClassifier\n",
    "from sklearn.metrics import accuracy_score"
   ]
  },
  {
   "cell_type": "code",
   "execution_count": 5,
   "metadata": {},
   "outputs": [],
   "source": [
    "test_input_gemini = \"./input/gemini_generated.csv\"\n",
    "test_input_human = \"./input/test_input.csv\""
   ]
  },
  {
   "cell_type": "code",
   "execution_count": null,
   "metadata": {},
   "outputs": [],
   "source": [
    "# data_input_gemini = pd.read_csv(test_input_gemini)\n",
    "# data_input_human = pd.read_csv(test_input_human)\n",
    "# print(data_input_gemini.describe())\n",
    "# print(data_input_gemini['filename'])\n",
    "# print(data_input_human['filename'])\n",
    "\n",
    "# for i in range(len(data_input_gemini['filename'])):\n",
    "#     if data_input_gemini['filename'][i][:4] != data_input_human['filename'][i]:\n",
    "#         print(\"DATA INVRIANCE FOUND!\", i)\n",
    "#         print(data_input_gemini['filename'][i][:4] == data_input_human['filename'][i])"
   ]
  },
  {
   "cell_type": "code",
   "execution_count": null,
   "metadata": {},
   "outputs": [],
   "source": [
    "# Load CSV files (assuming no 'filename' column)\n",
    "# df1 = pd.read_csv(test_input_human, header=None)\n",
    "# df2 = pd.read_csv(test_input_gemini, header=None)\n",
    "\n",
    "# print(\"DF1\", df1)\n",
    "# print(\"DF2\", df2)\n",
    "\n",
    "# df = pd.concat([df1, df2], axis=1, ignore_index=True)"
   ]
  },
  {
   "cell_type": "code",
   "execution_count": null,
   "metadata": {},
   "outputs": [],
   "source": [
    "# Load CSV files (assuming no 'filename' column)\n",
    "# df1 = pd.read_csv(test_input_human, header=None)\n",
    "# df2 = pd.read_csv(test_input_gemini, header=None)\n",
    "\n",
    "# # Ensure both datasets have the same column count\n",
    "# assert df1.shape == df2.shape, \"CSV files must have the same shape\"\n",
    "\n",
    "# # Merge both datasets (assuming they have the same structure)\n",
    "# df = pd.concat([df1, df2], axis=1, ignore_index=True)\n",
    "\n",
    "# # Encode categorical labels (A → 0, B → 1, C → 2, D → 3)\n",
    "# label_encoder = LabelEncoder()\n",
    "# for col in range(df.shape[1]):\n",
    "#     df[col] = label_encoder.fit_transform(df[col])\n",
    "    \n",
    "\n",
    "# # Define features (X) and target (y)\n",
    "# X = df.drop(columns=[4])  # Assuming column index 4 is 'Overall' from first dataset\n",
    "# y = df[4]  # Target variable\n",
    "\n",
    "# # Train-test split\n",
    "# X_train, X_test, y_train, y_test = train_test_split(X, y, test_size=0.2, random_state=42)\n",
    "\n",
    "# # Train a model (Random Forest)\n",
    "# model = RandomForestClassifier(n_estimators=100, random_state=42)\n",
    "# model.fit(X_train, y_train)\n",
    "\n",
    "# # Predictions\n",
    "# y_pred = model.predict(X_test)\n",
    "\n",
    "# # Evaluate accuracy\n",
    "# accuracy = accuracy_score(y_test, y_pred)\n",
    "# print(f\"Model Accuracy: {accuracy:.2f}\")"
   ]
  },
  {
   "cell_type": "code",
   "execution_count": 9,
   "metadata": {},
   "outputs": [
    {
     "name": "stdout",
     "output_type": "stream",
     "text": [
      "Accuracy for category Overall: 75.44\n",
      "Accuracy for category Humour: 98.25\n",
      "Accuracy for category Sarcasm: 56.14\n",
      "Accuracy for category Offensive: 89.47\n",
      "Accuracy for category Motivational: 94.74\n"
     ]
    }
   ],
   "source": [
    "# Load CSV files, removing the 'filename' column\n",
    "df1 = pd.read_csv(test_input_human).drop(columns=[\"filename\"])\n",
    "df2 = pd.read_csv(test_input_gemini).drop(columns=[\"filename\"])\n",
    "\n",
    "# Ensure both datasets have the same column count\n",
    "assert df1.shape == df2.shape, \"CSV files must have the same shape\"\n",
    "\n",
    "# Merge both datasets (assuming they have the same structure)\n",
    "df = pd.concat([df1, df2], axis=1, ignore_index=True)\n",
    "\n",
    "# Encode categorical labels (A → 0, B → 1, C → 2, D → 3)\n",
    "label_encoder = LabelEncoder()\n",
    "for col in range(df.shape[1]):\n",
    "    df[col] = label_encoder.fit_transform(df[col])\n",
    "\n",
    "# Define features (X) and targets (y)\n",
    "target_columns = [4, 5, 6, 7, 8]  # Assuming these indices correspond to Overall, Humour, Sarcasm, Offensive, Motivational\n",
    "column_names = ['Overall', 'Humour', 'Sarcasm', 'Offensive', 'Motivational']\n",
    "X = df.drop(columns=target_columns)\n",
    "y_targets = df[target_columns]  # Multiple target variables\n",
    "\n",
    "# Train-test split\n",
    "X_train, X_test, y_train, y_test = train_test_split(X, y_targets, test_size=0.2, random_state=42)\n",
    "\n",
    "# Train a model for each category\n",
    "models = {}\n",
    "accuracies = {}\n",
    "\n",
    "for col in y_targets.columns:\n",
    "    model = RandomForestClassifier(n_estimators=100, random_state=42)\n",
    "    model.fit(X_train, y_train[col])\n",
    "    models[col] = model\n",
    "    y_pred = model.predict(X_test)\n",
    "    accuracies[col] = accuracy_score(y_test[col], y_pred)\n",
    "    print(f\"Accuracy for category {column_names[col-4]}: {accuracies[col]*100:.2f}\")\n"
   ]
  },
  {
   "cell_type": "code",
   "execution_count": null,
   "metadata": {},
   "outputs": [],
   "source": []
  }
 ],
 "metadata": {
  "kernelspec": {
   "display_name": ".venv",
   "language": "python",
   "name": "python3"
  },
  "language_info": {
   "codemirror_mode": {
    "name": "ipython",
    "version": 3
   },
   "file_extension": ".py",
   "mimetype": "text/x-python",
   "name": "python",
   "nbconvert_exporter": "python",
   "pygments_lexer": "ipython3",
   "version": "3.11.3"
  }
 },
 "nbformat": 4,
 "nbformat_minor": 2
}
